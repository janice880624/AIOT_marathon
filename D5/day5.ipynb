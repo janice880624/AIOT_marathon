{
 "metadata": {
  "language_info": {
   "codemirror_mode": {
    "name": "ipython",
    "version": 3
   },
   "file_extension": ".py",
   "mimetype": "text/x-python",
   "name": "python",
   "nbconvert_exporter": "python",
   "pygments_lexer": "ipython3",
   "version": "3.7.0-final"
  },
  "orig_nbformat": 2,
  "kernelspec": {
   "name": "python3",
   "display_name": "Python 3",
   "language": "python"
  }
 },
 "nbformat": 4,
 "nbformat_minor": 2,
 "cells": [
  {
   "cell_type": "code",
   "execution_count": 1,
   "metadata": {},
   "outputs": [],
   "source": [
    "## 作業1 : 練習使用一個民生物聯網 API，例如空氣、地震等感測站所回傳的紀錄資料。\n",
    "## 參考資料網址： https://ci.taiwan.gov.tw/dsp/environmental.aspx"
   ]
  },
  {
   "cell_type": "code",
   "execution_count": 2,
   "metadata": {},
   "outputs": [
    {
     "output_type": "execute_result",
     "data": {
      "text/plain": [
       "   stationID stationName PM2.5            phenomenonTime\n",
       "0     EPA001          基隆     9  2020-12-27T15:00:00.000Z\n",
       "1     EPA002          汐止    16  2020-12-27T15:00:00.000Z\n",
       "2     EPA003          萬里     7  2020-12-27T15:00:00.000Z\n",
       "3     EPA004          新店     6  2020-12-27T15:00:00.000Z\n",
       "4     EPA005          土城     5  2020-12-27T15:00:00.000Z\n",
       "..       ...         ...   ...                       ...\n",
       "72    EPA080          關山     6  2020-12-27T15:00:00.000Z\n",
       "73    EPA101          金門    32  2020-12-27T15:00:00.000Z\n",
       "74    EPA102          馬祖    20  2020-12-27T15:00:00.000Z\n",
       "75    EPA104          馬公    14  2020-12-27T15:00:00.000Z\n",
       "76    EPA110          麥寮    20  2020-12-27T15:00:00.000Z\n",
       "\n",
       "[77 rows x 4 columns]"
      ],
      "text/html": "<div>\n<style scoped>\n    .dataframe tbody tr th:only-of-type {\n        vertical-align: middle;\n    }\n\n    .dataframe tbody tr th {\n        vertical-align: top;\n    }\n\n    .dataframe thead th {\n        text-align: right;\n    }\n</style>\n<table border=\"1\" class=\"dataframe\">\n  <thead>\n    <tr style=\"text-align: right;\">\n      <th></th>\n      <th>stationID</th>\n      <th>stationName</th>\n      <th>PM2.5</th>\n      <th>phenomenonTime</th>\n    </tr>\n  </thead>\n  <tbody>\n    <tr>\n      <th>0</th>\n      <td>EPA001</td>\n      <td>基隆</td>\n      <td>9</td>\n      <td>2020-12-27T15:00:00.000Z</td>\n    </tr>\n    <tr>\n      <th>1</th>\n      <td>EPA002</td>\n      <td>汐止</td>\n      <td>16</td>\n      <td>2020-12-27T15:00:00.000Z</td>\n    </tr>\n    <tr>\n      <th>2</th>\n      <td>EPA003</td>\n      <td>萬里</td>\n      <td>7</td>\n      <td>2020-12-27T15:00:00.000Z</td>\n    </tr>\n    <tr>\n      <th>3</th>\n      <td>EPA004</td>\n      <td>新店</td>\n      <td>6</td>\n      <td>2020-12-27T15:00:00.000Z</td>\n    </tr>\n    <tr>\n      <th>4</th>\n      <td>EPA005</td>\n      <td>土城</td>\n      <td>5</td>\n      <td>2020-12-27T15:00:00.000Z</td>\n    </tr>\n    <tr>\n      <th>...</th>\n      <td>...</td>\n      <td>...</td>\n      <td>...</td>\n      <td>...</td>\n    </tr>\n    <tr>\n      <th>72</th>\n      <td>EPA080</td>\n      <td>關山</td>\n      <td>6</td>\n      <td>2020-12-27T15:00:00.000Z</td>\n    </tr>\n    <tr>\n      <th>73</th>\n      <td>EPA101</td>\n      <td>金門</td>\n      <td>32</td>\n      <td>2020-12-27T15:00:00.000Z</td>\n    </tr>\n    <tr>\n      <th>74</th>\n      <td>EPA102</td>\n      <td>馬祖</td>\n      <td>20</td>\n      <td>2020-12-27T15:00:00.000Z</td>\n    </tr>\n    <tr>\n      <th>75</th>\n      <td>EPA104</td>\n      <td>馬公</td>\n      <td>14</td>\n      <td>2020-12-27T15:00:00.000Z</td>\n    </tr>\n    <tr>\n      <th>76</th>\n      <td>EPA110</td>\n      <td>麥寮</td>\n      <td>20</td>\n      <td>2020-12-27T15:00:00.000Z</td>\n    </tr>\n  </tbody>\n</table>\n<p>77 rows × 4 columns</p>\n</div>"
     },
     "metadata": {},
     "execution_count": 2
    }
   ],
   "source": [
    "from urllib.request import urlopen\n",
    "import json\n",
    "import pandas as pd\n",
    "df=pd.DataFrame(columns=['stationID','stationName','PM2.5','phenomenonTime'])\n",
    "# 最新一筆 PM2.5 感測資料  API url\n",
    "url = \"https://sta.ci.taiwan.gov.tw/STA_AirQuality_v2/v1.0/Datastreams?$expand=Thing,Observations($orderby=phenomenonTime%20desc;$top=1)&$filter=name%20eq%20%27PM2.5%27%20and%20Thing/properties/authority%20eq%20%27%E8%A1%8C%E6%94%BF%E9%99%A2%E7%92%B0%E5%A2%83%E4%BF%9D%E8%AD%B7%E7%BD%B2%27%20and%20substringof(%27%E7%A9%BA%E6%B0%A3%E5%93%81%E8%B3%AA%E6%B8%AC%E7%AB%99%27,Thing/name)&$count=true\"\n",
    "response = urlopen(url)\n",
    "r=json.load(response)\n",
    "for i in range(len(r['value'])):\n",
    "\n",
    "    v=r['value'][i]\n",
    "\n",
    "    d0=v['Thing']['properties']['stationID']\n",
    "    d1=v['Thing']['properties']['stationName']\n",
    "    d2=v['Observations'][0]['result']\n",
    "    d3=v['Observations'][0]['phenomenonTime']\n",
    "   \n",
    "    s=pd.Series([d0,d1,d2,d3],index=['stationID','stationName','PM2.5','phenomenonTime'])\n",
    "    df=df.append(s,ignore_index=True)\n",
    "    #df\n",
    "df"
   ]
  },
  {
   "cell_type": "code",
   "execution_count": null,
   "metadata": {},
   "outputs": [],
   "source": [
    "## 作業2 : 練習操作 OGC SensorThings API，將環保局測站位置的資料抓取下來，並且觀察下載資料的內容。\n",
    "## 參考網址：https://sta.ci.taiwan.gov.tw/STA_AirQuality_EPAIoT/v1.0/Things"
   ]
  },
  {
   "cell_type": "code",
   "execution_count": 8,
   "metadata": {},
   "outputs": [],
   "source": [
    "import pandas as pd\n",
    "df=pd.DataFrame(columns=['city','township','authority','isDisplay','isOutdoor','stationID','locationId','Description','Datastreams@iot.navigationLink'])\n",
    "url=\"https://sta.ci.taiwan.gov.tw/STA_AirQuality_EPAIoT/v1.0/Things\"\n",
    "response = urlopen(url)\n",
    "r=json.load(response)\n",
    "v=r['value']\n",
    "# for i in range(len(v)):\n",
    "#     d0=v[i]['properties']['city']\n",
    "#     d1=v[i]['properties']['township']\n",
    "#     d2=v[i]['properties']['authority']\n",
    "#     d3=v[i]['properties']['isDisplay']\n",
    "#     d4=v[i]['properties']['isOutdoor']\n",
    "#     d5=v[i]['properties']['stationID']\n",
    "#     d6=v[i]['properties']['locationId']\n",
    "#     d7=v[i]['properties']['Description']\n",
    " \n",
    "#     d8=v[i]['Datastreams@iot.navigationLink']\n",
    "\n",
    "#     s=pd.Series([d0,d1,d2,d3,d4,d5,d6,d7,d8],index=['city','township','authority','isDisplay','isOutdoor','stationID','locationId','Description','Datastreams@iot.navigationLink'])\n",
    "#     df=df.append(s,ignore_index=True)\n",
    "# df"
   ]
  },
  {
   "cell_type": "code",
   "execution_count": null,
   "metadata": {},
   "outputs": [],
   "source": [
    "## 作業3 : 依據作業 2 所下載的各個環保局測站感測器的描述資料，進一步點選 Datastreams、Locations，以及 Datastreams 點選進入後，點選 Observations 的 URL，觀察所下載到的資料內容，其中 Observations 內部是否包含個別感測器紀錄的資料。"
   ]
  },
  {
   "cell_type": "code",
   "execution_count": 5,
   "metadata": {},
   "outputs": [
    {
     "output_type": "execute_result",
     "data": {
      "text/plain": [
       "      @iot.id  result            phenomenonTime  \\\n",
       "0   302780687    8.02  2020-12-27T13:05:16.000Z   \n",
       "1   304883754    7.17  2020-12-27T15:01:16.000Z   \n",
       "2   300553145    7.35  2020-12-27T11:01:17.000Z   \n",
       "3   302747258    8.01  2020-12-27T13:03:17.000Z   \n",
       "4   302709846    8.04  2020-12-27T13:01:17.000Z   \n",
       "..        ...     ...                       ...   \n",
       "95  305471969    7.28  2020-12-27T15:33:16.000Z   \n",
       "96  305571978    7.28  2020-12-27T15:39:16.000Z   \n",
       "97  305548483    6.40  2020-12-27T15:37:17.000Z   \n",
       "98  301265475    9.02  2020-12-27T11:41:17.000Z   \n",
       "99  305435464    6.40  2020-12-27T15:31:16.000Z   \n",
       "\n",
       "                        Datastream@iot.navigationLink  \n",
       "0   https://sta.ci.taiwan.gov.tw/STA_AirQuality_EP...  \n",
       "1   https://sta.ci.taiwan.gov.tw/STA_AirQuality_EP...  \n",
       "2   https://sta.ci.taiwan.gov.tw/STA_AirQuality_EP...  \n",
       "3   https://sta.ci.taiwan.gov.tw/STA_AirQuality_EP...  \n",
       "4   https://sta.ci.taiwan.gov.tw/STA_AirQuality_EP...  \n",
       "..                                                ...  \n",
       "95  https://sta.ci.taiwan.gov.tw/STA_AirQuality_EP...  \n",
       "96  https://sta.ci.taiwan.gov.tw/STA_AirQuality_EP...  \n",
       "97  https://sta.ci.taiwan.gov.tw/STA_AirQuality_EP...  \n",
       "98  https://sta.ci.taiwan.gov.tw/STA_AirQuality_EP...  \n",
       "99  https://sta.ci.taiwan.gov.tw/STA_AirQuality_EP...  \n",
       "\n",
       "[100 rows x 4 columns]"
      ],
      "text/html": "<div>\n<style scoped>\n    .dataframe tbody tr th:only-of-type {\n        vertical-align: middle;\n    }\n\n    .dataframe tbody tr th {\n        vertical-align: top;\n    }\n\n    .dataframe thead th {\n        text-align: right;\n    }\n</style>\n<table border=\"1\" class=\"dataframe\">\n  <thead>\n    <tr style=\"text-align: right;\">\n      <th></th>\n      <th>@iot.id</th>\n      <th>result</th>\n      <th>phenomenonTime</th>\n      <th>Datastream@iot.navigationLink</th>\n    </tr>\n  </thead>\n  <tbody>\n    <tr>\n      <th>0</th>\n      <td>302780687</td>\n      <td>8.02</td>\n      <td>2020-12-27T13:05:16.000Z</td>\n      <td>https://sta.ci.taiwan.gov.tw/STA_AirQuality_EP...</td>\n    </tr>\n    <tr>\n      <th>1</th>\n      <td>304883754</td>\n      <td>7.17</td>\n      <td>2020-12-27T15:01:16.000Z</td>\n      <td>https://sta.ci.taiwan.gov.tw/STA_AirQuality_EP...</td>\n    </tr>\n    <tr>\n      <th>2</th>\n      <td>300553145</td>\n      <td>7.35</td>\n      <td>2020-12-27T11:01:17.000Z</td>\n      <td>https://sta.ci.taiwan.gov.tw/STA_AirQuality_EP...</td>\n    </tr>\n    <tr>\n      <th>3</th>\n      <td>302747258</td>\n      <td>8.01</td>\n      <td>2020-12-27T13:03:17.000Z</td>\n      <td>https://sta.ci.taiwan.gov.tw/STA_AirQuality_EP...</td>\n    </tr>\n    <tr>\n      <th>4</th>\n      <td>302709846</td>\n      <td>8.04</td>\n      <td>2020-12-27T13:01:17.000Z</td>\n      <td>https://sta.ci.taiwan.gov.tw/STA_AirQuality_EP...</td>\n    </tr>\n    <tr>\n      <th>...</th>\n      <td>...</td>\n      <td>...</td>\n      <td>...</td>\n      <td>...</td>\n    </tr>\n    <tr>\n      <th>95</th>\n      <td>305471969</td>\n      <td>7.28</td>\n      <td>2020-12-27T15:33:16.000Z</td>\n      <td>https://sta.ci.taiwan.gov.tw/STA_AirQuality_EP...</td>\n    </tr>\n    <tr>\n      <th>96</th>\n      <td>305571978</td>\n      <td>7.28</td>\n      <td>2020-12-27T15:39:16.000Z</td>\n      <td>https://sta.ci.taiwan.gov.tw/STA_AirQuality_EP...</td>\n    </tr>\n    <tr>\n      <th>97</th>\n      <td>305548483</td>\n      <td>6.40</td>\n      <td>2020-12-27T15:37:17.000Z</td>\n      <td>https://sta.ci.taiwan.gov.tw/STA_AirQuality_EP...</td>\n    </tr>\n    <tr>\n      <th>98</th>\n      <td>301265475</td>\n      <td>9.02</td>\n      <td>2020-12-27T11:41:17.000Z</td>\n      <td>https://sta.ci.taiwan.gov.tw/STA_AirQuality_EP...</td>\n    </tr>\n    <tr>\n      <th>99</th>\n      <td>305435464</td>\n      <td>6.40</td>\n      <td>2020-12-27T15:31:16.000Z</td>\n      <td>https://sta.ci.taiwan.gov.tw/STA_AirQuality_EP...</td>\n    </tr>\n  </tbody>\n</table>\n<p>100 rows × 4 columns</p>\n</div>"
     },
     "metadata": {},
     "execution_count": 5
    }
   ],
   "source": [
    "import pandas as pd \n",
    "df=pd.DataFrame(columns=['@iot.id','result','phenomenonTime','Datastream@iot.navigationLink'])\n",
    "#PM2.5 api url\n",
    "url=\"https://sta.ci.taiwan.gov.tw/STA_AirQuality_EPAIoT/v1.0/Datastreams(1)/Observations\"\n",
    "response = urlopen(url)\n",
    "r=json.load(response)\n",
    "v=r['value']\n",
    "for i in range(len(v)):\n",
    "    d0=v[i]['@iot.id']\n",
    "    d1=v[i]['result']\n",
    "    d2=v[i]['phenomenonTime']\n",
    "    d3=v[i]['Datastream@iot.navigationLink']\n",
    "    s=pd.Series([d0,d1,d2,d3],index=['@iot.id','result','phenomenonTime','Datastream@iot.navigationLink'])\n",
    "    df=df.append(s,ignore_index=True)\n",
    "df"
   ]
  }
 ]
}